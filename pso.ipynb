{
 "cells": [
  {
   "cell_type": "markdown",
   "metadata": {},
   "source": [
    "# PSO dynamical equations\n",
    "* velocity update\n",
    "$$\n",
    "    v_j^{(i)}[k+1] = w * v_j^{(i)}[k] + c_1 * r_1,j * (p_j^{(i)}[k] - x_j^{(i)}[k]) + c_2 * r_2,j * (g_j^{(i)}[k] - x_j^{(i)}[k])\n",
    "$$\n",
    "\n",
    "* position update\n",
    "$$\n",
    "    x_j^{(i)}[k+1] = x_j^{(i)}[k] + v_j^{(i)}[k+1]\n",
    "$$\n",
    "\n",
    "* $\\bar{x}^{(i)}[k]$: Position of $i$th particle in $k$th iteration\n",
    "\n",
    "$$\n",
    "    \\bar{x}^{(i)}[k] = (x_0^{(i)}[k], x_1^{(i)}[k], ..., x_D^{(i)}[k])\n",
    "$$\n",
    "\n",
    "* $\\bar{v}^{(i)}[k]$: velocity of $i$th particle in $k$th iteration\n",
    "\n",
    "$$\n",
    "    \\bar{v}^{(i)}[k] = (v_0^{(i)}[k], v_1^{(i)}[k], ..., v_D^{(i)}[k])\n",
    "$$"
   ]
  },
  {
   "cell_type": "code",
   "execution_count": 1,
   "metadata": {},
   "outputs": [
    {
     "data": {
      "text/plain": [
       "3"
      ]
     },
     "execution_count": 1,
     "metadata": {},
     "output_type": "execute_result"
    }
   ],
   "source": [
    "const Float = Float64\n",
    "const particle_num = 40 # number of particles\n",
    "const iter_num = 2000 # number of iterations\n",
    "const c1 = 2\n",
    "const c2 = 2\n",
    "const max_initial_velocity = 0.5\n",
    "const max_velocity = 0.2\n",
    "\n",
    "# range of w\n",
    "const w_max = 0.9 \n",
    "const w_min = 0.4\n",
    "dcLaw_d = 0.2;\n",
    "boundary_cond = \" \" # boundary condition\n",
    "const neighbor_num = 3 # number of neighborhoos"
   ]
  },
  {
   "cell_type": "code",
   "execution_count": 2,
   "metadata": {},
   "outputs": [
    {
     "data": {
      "text/plain": [
       "Particle"
      ]
     },
     "execution_count": 2,
     "metadata": {},
     "output_type": "execute_result"
    }
   ],
   "source": [
    "\"\"\"\n",
    "    Particle type\n",
    "\n",
    "`position`: the current position of the particle\n",
    "`velocity`: the current velocity of the particle\n",
    "`pbest` : \n",
    "`gbest` : Array{Float, 1}\n",
    "\"\"\"\n",
    "mutable struct Particle\n",
    "    position::Array{Float, 1}\n",
    "    velocity::Array{Float, 1}\n",
    "    pbest::Array{Float, 1}\n",
    "    gbest::Array{Float, 1}\n",
    "end"
   ]
  },
  {
   "cell_type": "code",
   "execution_count": null,
   "metadata": {},
   "outputs": [],
   "source": []
  }
 ],
 "metadata": {
  "kernelspec": {
   "display_name": "Julia 1.1.0",
   "language": "julia",
   "name": "julia-1.1"
  },
  "language_info": {
   "file_extension": ".jl",
   "mimetype": "application/julia",
   "name": "julia",
   "version": "1.1.0"
  }
 },
 "nbformat": 4,
 "nbformat_minor": 2
}
